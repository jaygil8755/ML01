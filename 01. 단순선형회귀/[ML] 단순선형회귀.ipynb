{
 "cells": [
  {
   "cell_type": "markdown",
   "id": "a01ebb1f",
   "metadata": {},
   "source": [
    "### 미분이란?\n",
    "- 곡선의 기울기(slope)\n",
    "- 함수의 순간 변화율 -> 함수 f(x)에서 x가 미세하게 변할 때 f(x)값이 얼마나 민감하게 반응하는가에 관한 식\n",
    "\n",
    "<img src= \"https://raw.githubusercontent.com/jaygil8755/ML01/master/01.%20%EB%8B%A8%EC%88%9C%EC%84%A0%ED%98%95%ED%9A%8C%EA%B7%80/deri.gif\" width=\"400\" height=\"300\" align='left'>   "
   ]
  },
  {
   "cell_type": "markdown",
   "id": "f92b38ed",
   "metadata": {},
   "source": [
    "### 편미분이란?\n",
    "- 다변수 함수에서 각 변수의 변화에 따른 함수의 변화량\n",
    "\n",
    "<img src= \"https://raw.githubusercontent.com/jaygil8755/ML01/master/01.%20%EB%8B%A8%EC%88%9C%EC%84%A0%ED%98%95%ED%9A%8C%EA%B7%80/deriv_ex.png\" width=\"400\" height=\"300\" align='left'>   "
   ]
  },
  {
   "cell_type": "markdown",
   "id": "ccbdb09c",
   "metadata": {},
   "source": [
    "#### 평균제곱오차 편미분\n",
    "\n",
    "평균제곱 오차\n",
    "$MSE = \\frac{1}{n} \\sum_{i=1}^{n} (y_i - \\hat{y_i})^2$\n",
    "\n",
    "기울기 세타1에 대한 편미분  \n",
    "$\\frac{\\partial MSE}{\\partial \\theta_1} = -\\frac{2}{n} \\sum_{i=1}^{n} x_i (y_i - \\hat{y_i})$\n",
    "\n",
    "절편 세타0에 대한 편미분  \n",
    "$\\frac{\\partial MSE}{\\partial \\theta_0} = -\\frac{2}{n} \\sum_{i=1}^{n} (y_i - \\hat{y_i})$\n",
    "\n",
    "[참고] MSE 편미분 http://taewan.kim/post/cost_function_derivation/"
   ]
  },
  {
   "cell_type": "markdown",
   "id": "f0ebb6a2",
   "metadata": {},
   "source": [
    "### 단순선형회귀 모델 구현하기 (순수 파이썬)\n",
    "- (ChatGPT 참고) sklearn을 사용하지 않고, 파이썬으로만 단순선형회귀를 구현하는 코드를 알려주세요. "
   ]
  },
  {
   "cell_type": "code",
   "execution_count": 1,
   "id": "9b6e1645",
   "metadata": {},
   "outputs": [],
   "source": [
    "import numpy as np\n",
    "import matplotlib.pyplot as plt"
   ]
  },
  {
   "cell_type": "code",
   "execution_count": 37,
   "id": "9d810889",
   "metadata": {},
   "outputs": [],
   "source": [
    "# 데이터 생성 \n",
    "np.random.seed(0)  # 시드 초기화\n",
    "X = np.linspace(0, 10, 100)  # 0부터 10까지의 100개의 데이터 포인트 생성\n",
    "y = 2 * X + 1 + np.random.normal(0, 1, 100)  # y = 2X + 1의 관계에 노이즈 추가"
   ]
  },
  {
   "cell_type": "code",
   "execution_count": 38,
   "id": "a5808ff4",
   "metadata": {},
   "outputs": [],
   "source": [
    "# 초기값 및 하이퍼파라미터 설정\n",
    "learning_rate = 0.01  # 학습률\n",
    "epochs = 1000 # 경사 하강법 반복 횟수\n",
    "n = len(X)  # 데이터 포인트 수"
   ]
  },
  {
   "cell_type": "code",
   "execution_count": null,
   "id": "6786d73f",
   "metadata": {},
   "outputs": [],
   "source": []
  },
  {
   "cell_type": "code",
   "execution_count": 39,
   "id": "c0915e38",
   "metadata": {},
   "outputs": [],
   "source": [
    "# 초기 회귀 계수 설정\n",
    "slope = 0  # 초기 기울기\n",
    "intercept = 0  # 초기 절편"
   ]
  },
  {
   "cell_type": "code",
   "execution_count": 40,
   "id": "e14be6da",
   "metadata": {},
   "outputs": [
    {
     "name": "stdout",
     "output_type": "stream",
     "text": [
      "epochs=0 기울기=1.4410 절편=0.2212         기울기 편미분=-144.0993 절편 편미분=-22.1196\n",
      "epochs=100 기울기=2.0514 절편=0.6688         기울기 편미분=0.0405 절편 편미분=-0.2692\n",
      "epochs=200 기울기=2.0196 절편=0.8804         기울기 편미분=0.0246 절편 편미분=-0.1637\n",
      "epochs=300 기울기=2.0003 절편=1.0090         기울기 편미분=0.0150 절편 편미분=-0.0995\n",
      "epochs=400 기울기=1.9885 절편=1.0872         기울기 편미분=0.0091 절편 편미분=-0.0605\n",
      "epochs=500 기울기=1.9814 절편=1.1347         기울기 편미분=0.0055 절편 편미분=-0.0368\n",
      "epochs=600 기울기=1.9770 절편=1.1636         기울기 편미분=0.0034 절편 편미분=-0.0224\n",
      "epochs=700 기울기=1.9744 절편=1.1812         기울기 편미분=0.0020 절편 편미분=-0.0136\n",
      "epochs=800 기울기=1.9728 절편=1.1919         기울기 편미분=0.0012 절편 편미분=-0.0083\n",
      "epochs=900 기울기=1.9718 절편=1.1984         기울기 편미분=0.0008 절편 편미분=-0.0050\n"
     ]
    }
   ],
   "source": [
    "# 경사하강법 수행\n",
    "for i in range(epochs):\n",
    "    y_pred = slope * X + intercept  # 현재 회귀선에 대한 예측값 계산\n",
    "    error = y_pred - y  # 예측 오차 계산\n",
    "    \n",
    "    # 기울기와 절편의 편미분 계산\n",
    "    gradient_slope = (2/n) * np.sum(error * X)\n",
    "    gradient_intercept = (2/n) * np.sum(error)\n",
    "    \n",
    "    # 기울기와 절편 업데이트\n",
    "    slope -= learning_rate * gradient_slope\n",
    "    intercept -= learning_rate * gradient_intercept\n",
    "    \n",
    "    if i % 100 == 0: # 100번 반복될 때마다 현재 상태 출력\n",
    "        print(f\"epochs={i} 기울기={slope:.4f} 절편={intercept:.4f} \\\n",
    "        기울기 편미분={gradient_slope:.4f} 절편 편미분={gradient_intercept:.4f}\")"
   ]
  },
  {
   "cell_type": "code",
   "execution_count": 41,
   "id": "20e2ffca",
   "metadata": {},
   "outputs": [
    {
     "name": "stdout",
     "output_type": "stream",
     "text": [
      "회귀 계수 (기울기): 1.971\n",
      "절편: 1.202\n"
     ]
    }
   ],
   "source": [
    "# 회귀 계수 출력\n",
    "print(f\"회귀 계수 (기울기): {slope:.3f}\")\n",
    "print(f\"절편: {intercept:.3f}\")"
   ]
  },
  {
   "cell_type": "code",
   "execution_count": 16,
   "id": "f22482f3",
   "metadata": {},
   "outputs": [
    {
     "data": {
      "text/plain": [
       "array([ 1.20847145,  1.40748835,  1.60650525,  1.80552215,  2.00453905,\n",
       "        2.20355595,  2.40257285,  2.60158975,  2.80060665,  2.99962355,\n",
       "        3.19864045,  3.39765735,  3.59667425,  3.79569115,  3.99470805,\n",
       "        4.19372495,  4.39274185,  4.59175875,  4.79077565,  4.98979255,\n",
       "        5.18880945,  5.38782636,  5.58684326,  5.78586016,  5.98487706,\n",
       "        6.18389396,  6.38291086,  6.58192776,  6.78094466,  6.97996156,\n",
       "        7.17897846,  7.37799536,  7.57701226,  7.77602916,  7.97504606,\n",
       "        8.17406296,  8.37307986,  8.57209676,  8.77111366,  8.97013056,\n",
       "        9.16914746,  9.36816436,  9.56718126,  9.76619816,  9.96521506,\n",
       "       10.16423196, 10.36324886, 10.56226576, 10.76128266, 10.96029957,\n",
       "       11.15931647, 11.35833337, 11.55735027, 11.75636717, 11.95538407,\n",
       "       12.15440097, 12.35341787, 12.55243477, 12.75145167, 12.95046857,\n",
       "       13.14948547, 13.34850237, 13.54751927, 13.74653617, 13.94555307,\n",
       "       14.14456997, 14.34358687, 14.54260377, 14.74162067, 14.94063757,\n",
       "       15.13965447, 15.33867137, 15.53768827, 15.73670517, 15.93572207,\n",
       "       16.13473897, 16.33375588, 16.53277278, 16.73178968, 16.93080658,\n",
       "       17.12982348, 17.32884038, 17.52785728, 17.72687418, 17.92589108,\n",
       "       18.12490798, 18.32392488, 18.52294178, 18.72195868, 18.92097558,\n",
       "       19.11999248, 19.31900938, 19.51802628, 19.71704318, 19.91606008,\n",
       "       20.11507698, 20.31409388, 20.51311078, 20.71212768, 20.91114458])"
      ]
     },
     "execution_count": 16,
     "metadata": {},
     "output_type": "execute_result"
    }
   ],
   "source": [
    "# 테스트 데이터 예측\n",
    "y_pred = slope * X + intercept\n",
    "y_pred"
   ]
  },
  {
   "cell_type": "code",
   "execution_count": 18,
   "id": "2638cfef",
   "metadata": {},
   "outputs": [
    {
     "name": "stdout",
     "output_type": "stream",
     "text": [
      "Collecting koreanize_matplotlib\n",
      "  Downloading koreanize_matplotlib-0.1.1-py3-none-any.whl (7.9 MB)\n",
      "     ---------------------------------------- 0.0/7.9 MB ? eta -:--:--\n",
      "     -- ------------------------------------- 0.4/7.9 MB 8.3 MB/s eta 0:00:01\n",
      "     ---- ----------------------------------- 0.8/7.9 MB 8.9 MB/s eta 0:00:01\n",
      "     ------- -------------------------------- 1.4/7.9 MB 11.1 MB/s eta 0:00:01\n",
      "     --------- ------------------------------ 1.9/7.9 MB 11.1 MB/s eta 0:00:01\n",
      "     ------------ --------------------------- 2.4/7.9 MB 11.0 MB/s eta 0:00:01\n",
      "     -------------- ------------------------- 3.0/7.9 MB 11.1 MB/s eta 0:00:01\n",
      "     --------------- ------------------------ 3.1/7.9 MB 11.2 MB/s eta 0:00:01\n",
      "     --------------- ------------------------ 3.1/7.9 MB 11.2 MB/s eta 0:00:01\n",
      "     --------------- ------------------------ 3.1/7.9 MB 11.2 MB/s eta 0:00:01\n",
      "     --------------- ------------------------ 3.1/7.9 MB 11.2 MB/s eta 0:00:01\n",
      "     --------------- ------------------------ 3.1/7.9 MB 11.2 MB/s eta 0:00:01\n",
      "     --------------- ------------------------ 3.1/7.9 MB 11.2 MB/s eta 0:00:01\n",
      "     --------------- ------------------------ 3.1/7.9 MB 11.2 MB/s eta 0:00:01\n",
      "     ----------------- ---------------------- 3.4/7.9 MB 5.4 MB/s eta 0:00:01\n",
      "     -------------------- ------------------- 4.0/7.9 MB 5.8 MB/s eta 0:00:01\n",
      "     ---------------------- ----------------- 4.5/7.9 MB 6.2 MB/s eta 0:00:01\n",
      "     ------------------------- -------------- 5.0/7.9 MB 6.6 MB/s eta 0:00:01\n",
      "     --------------------------- ------------ 5.6/7.9 MB 6.8 MB/s eta 0:00:01\n",
      "     ------------------------------ --------- 6.1/7.9 MB 7.1 MB/s eta 0:00:01\n",
      "     --------------------------------- ------ 6.6/7.9 MB 7.3 MB/s eta 0:00:01\n",
      "     ---------------------------------- ----- 6.9/7.9 MB 7.5 MB/s eta 0:00:01\n",
      "     ----------------------------------- ---- 7.1/7.9 MB 7.1 MB/s eta 0:00:01\n",
      "     -------------------------------------- - 7.7/7.9 MB 7.4 MB/s eta 0:00:01\n",
      "     ---------------------------------------  7.9/7.9 MB 7.4 MB/s eta 0:00:01\n",
      "     ---------------------------------------- 7.9/7.9 MB 7.3 MB/s eta 0:00:00\n",
      "Requirement already satisfied: matplotlib in c:\\users\\jay\\anaconda3\\lib\\site-packages (from koreanize_matplotlib) (3.7.1)\n",
      "Requirement already satisfied: contourpy>=1.0.1 in c:\\users\\jay\\anaconda3\\lib\\site-packages (from matplotlib->koreanize_matplotlib) (1.0.5)\n",
      "Requirement already satisfied: cycler>=0.10 in c:\\users\\jay\\anaconda3\\lib\\site-packages (from matplotlib->koreanize_matplotlib) (0.11.0)\n",
      "Requirement already satisfied: fonttools>=4.22.0 in c:\\users\\jay\\anaconda3\\lib\\site-packages (from matplotlib->koreanize_matplotlib) (4.25.0)\n",
      "Requirement already satisfied: kiwisolver>=1.0.1 in c:\\users\\jay\\anaconda3\\lib\\site-packages (from matplotlib->koreanize_matplotlib) (1.4.4)\n",
      "Requirement already satisfied: numpy>=1.20 in c:\\users\\jay\\anaconda3\\lib\\site-packages (from matplotlib->koreanize_matplotlib) (1.24.3)\n",
      "Requirement already satisfied: packaging>=20.0 in c:\\users\\jay\\anaconda3\\lib\\site-packages (from matplotlib->koreanize_matplotlib) (23.0)\n",
      "Requirement already satisfied: pillow>=6.2.0 in c:\\users\\jay\\anaconda3\\lib\\site-packages (from matplotlib->koreanize_matplotlib) (9.4.0)\n",
      "Requirement already satisfied: pyparsing>=2.3.1 in c:\\users\\jay\\anaconda3\\lib\\site-packages (from matplotlib->koreanize_matplotlib) (3.0.9)\n",
      "Requirement already satisfied: python-dateutil>=2.7 in c:\\users\\jay\\anaconda3\\lib\\site-packages (from matplotlib->koreanize_matplotlib) (2.8.2)\n",
      "Requirement already satisfied: six>=1.5 in c:\\users\\jay\\anaconda3\\lib\\site-packages (from python-dateutil>=2.7->matplotlib->koreanize_matplotlib) (1.16.0)\n",
      "Installing collected packages: koreanize_matplotlib\n",
      "Successfully installed koreanize_matplotlib-0.1.1\n"
     ]
    }
   ],
   "source": [
    "!pip install koreanize_matplotlib"
   ]
  },
  {
   "cell_type": "code",
   "execution_count": 76,
   "id": "6deb87b2",
   "metadata": {
    "scrolled": true
   },
   "outputs": [
    {
     "data": {
      "image/png": "[encoded data removed]",
      "text/plain": [
       "<Figure size 400x300 with 1 Axes>"
      ]
     },
     "metadata": {},
     "output_type": "display_data"
    }
   ],
   "source": [
    "# 예측 결과 시각화\n",
    "import koreanize_matplotlib\n",
    "plt.figure(figsize=(4,3))\n",
    "plt.scatter(X, y, color='blue', label='실제 데이터')\n",
    "plt.plot(X, y_pred, color='red', label='회귀선')\n",
    "plt.xlabel('X')\n",
    "plt.ylabel('y')\n",
    "plt.legend()\n",
    "plt.title('단순선형회귀 예측 결과')\n",
    "plt.show()"
   ]
  },
  {
   "cell_type": "markdown",
   "id": "38cecb5e",
   "metadata": {},
   "source": [
    "### [실전 문제] 공부 시간 X와 성적 Y의 데이터가 다음과 같을 때 선형회귀를 구현해보세요.\n",
    "- 예) 1시간일 때 70점, 2시간일 때 81점, 4시간일 때 93점....   \n",
    "`data = [[1,70], [2, 81],[4, 93], [5, 92], [6, 91], [8, 97], [9, 98]]`"
   ]
  },
  {
   "cell_type": "code",
   "execution_count": 49,
   "id": "eb74157b",
   "metadata": {},
   "outputs": [
    {
     "data": {
      "image/png": "[encoded data removed]",
      "text/plain": [
       "<Figure size 800x500 with 1 Axes>"
      ]
     },
     "metadata": {},
     "output_type": "display_data"
    }
   ],
   "source": [
    "# 데이터 준비\n",
    "\n",
    "data = [[1,70], [2, 81],[4, 93], [5, 92], [6, 91], [8, 97], [9, 98]]\n",
    "\n",
    "X = [i[0] for i in data] # 리스트 안 for 문 \n",
    "y = [i[1] for i in data] # [ 표현식 for 항목 in 리스트 or 튜플 if 조건문 ]\n",
    "\n",
    "# 그래프로 나타내기\n",
    "plt.figure(figsize=(8,5))\n",
    "plt.scatter(X,y)\n",
    "plt.show()"
   ]
  },
  {
   "cell_type": "code",
   "execution_count": 61,
   "id": "5fb344b4",
   "metadata": {},
   "outputs": [],
   "source": [
    "# 리스트로 되어 있는 x와 y값을 넘파이 배열로 바꾸기(인덱스를 주어 하나씩 불러와 계산이 가능하게 하기 위함)\n",
    "X = np.array(X)\n",
    "y = np.array(y)"
   ]
  },
  {
   "cell_type": "code",
   "execution_count": 54,
   "id": "9b7969ba",
   "metadata": {},
   "outputs": [],
   "source": [
    "# 초기값 및 하이퍼파라미터 설정\n",
    "learning_rate = 0.01  # 학습률\n",
    "epochs = 5000 # 경사 하강법 반복 횟수\n",
    "n = len(X)  # 데이터 포인트 수\n",
    "# 초기 회귀 계수 설정\n",
    "slope = 0  # 초기 기울기\n",
    "intercept = 0  # 초기 절편"
   ]
  },
  {
   "cell_type": "code",
   "execution_count": 55,
   "id": "a4f2fcbd",
   "metadata": {},
   "outputs": [
    {
     "name": "stdout",
     "output_type": "stream",
     "text": [
      "epochs=0 기울기=9.3371 절편=1.7771         기울기 편미분=-933.7143 절편 편미분=-177.7143\n",
      "epochs=100 기울기=10.0930 절편=28.2265         기울기 편미분=3.1707 절편 편미분=-20.4222\n",
      "epochs=200 기울기=7.5437 절편=44.6470         기울기 편미분=2.0249 절편 편미분=-13.0421\n",
      "epochs=300 기울기=5.9156 절편=55.1334         기울기 편미분=1.2931 절편 편미분=-8.3290\n",
      "epochs=400 기울기=4.8759 절편=61.8302         기울기 편미분=0.8258 절편 편미분=-5.3191\n",
      "epochs=500 기울기=4.2119 절편=66.1070         기울기 편미분=0.5274 절편 편미분=-3.3969\n",
      "epochs=600 기울기=3.7878 절편=68.8382         기울기 편미분=0.3368 절편 편미분=-2.1693\n",
      "epochs=700 기울기=3.5170 절편=70.5825         기울기 편미분=0.2151 절편 편미분=-1.3854\n",
      "epochs=800 기울기=3.3441 절편=71.6964         기울기 편미분=0.1374 절편 편미분=-0.8847\n",
      "epochs=900 기울기=3.2336 절편=72.4077         기울기 편미분=0.0877 절편 편미분=-0.5650\n",
      "epochs=1000 기울기=3.1631 절편=72.8620         기울기 편미분=0.0560 절편 편미분=-0.3608\n",
      "epochs=1100 기울기=3.1181 절편=73.1521         기울기 편미분=0.0358 절편 편미분=-0.2304\n",
      "epochs=1200 기울기=3.0893 절편=73.3374         기울기 편미분=0.0228 절편 편미분=-0.1472\n",
      "epochs=1300 기울기=3.0709 절편=73.4557         기울기 편미분=0.0146 절편 편미분=-0.0940\n",
      "epochs=1400 기울기=3.0592 절편=73.5313         기울기 편미분=0.0093 절편 편미분=-0.0600\n",
      "epochs=1500 기울기=3.0517 절편=73.5796         기울기 편미분=0.0060 절편 편미분=-0.0383\n",
      "epochs=1600 기울기=3.0469 절편=73.6104         기울기 편미분=0.0038 절편 편미분=-0.0245\n",
      "epochs=1700 기울기=3.0439 절편=73.6301         기울기 편미분=0.0024 절편 편미분=-0.0156\n",
      "epochs=1800 기울기=3.0419 절편=73.6426         기울기 편미분=0.0015 절편 편미분=-0.0100\n",
      "epochs=1900 기울기=3.0407 절편=73.6507         기울기 편미분=0.0010 절편 편미분=-0.0064\n",
      "epochs=2000 기울기=3.0399 절편=73.6558         기울기 편미분=0.0006 절편 편미분=-0.0041\n",
      "epochs=2100 기울기=3.0394 절편=73.6591         기울기 편미분=0.0004 절편 편미분=-0.0026\n",
      "epochs=2200 기울기=3.0390 절편=73.6611         기울기 편미분=0.0003 절편 편미분=-0.0017\n",
      "epochs=2300 기울기=3.0388 절편=73.6625         기울기 편미분=0.0002 절편 편미분=-0.0011\n",
      "epochs=2400 기울기=3.0387 절편=73.6633         기울기 편미분=0.0001 절편 편미분=-0.0007\n",
      "epochs=2500 기울기=3.0386 절편=73.6639         기울기 편미분=0.0001 절편 편미분=-0.0004\n",
      "epochs=2600 기울기=3.0386 절편=73.6642         기울기 편미분=0.0000 절편 편미분=-0.0003\n",
      "epochs=2700 기울기=3.0385 절편=73.6644         기울기 편미분=0.0000 절편 편미분=-0.0002\n",
      "epochs=2800 기울기=3.0385 절편=73.6646         기울기 편미분=0.0000 절편 편미분=-0.0001\n",
      "epochs=2900 기울기=3.0385 절편=73.6647         기울기 편미분=0.0000 절편 편미분=-0.0001\n",
      "epochs=3000 기울기=3.0385 절편=73.6647         기울기 편미분=0.0000 절편 편미분=-0.0000\n",
      "epochs=3100 기울기=3.0385 절편=73.6648         기울기 편미분=0.0000 절편 편미분=-0.0000\n",
      "epochs=3200 기울기=3.0385 절편=73.6648         기울기 편미분=0.0000 절편 편미분=-0.0000\n",
      "epochs=3300 기울기=3.0385 절편=73.6648         기울기 편미분=0.0000 절편 편미분=-0.0000\n",
      "epochs=3400 기울기=3.0385 절편=73.6648         기울기 편미분=0.0000 절편 편미분=-0.0000\n",
      "epochs=3500 기울기=3.0385 절편=73.6648         기울기 편미분=0.0000 절편 편미분=-0.0000\n",
      "epochs=3600 기울기=3.0385 절편=73.6648         기울기 편미분=0.0000 절편 편미분=-0.0000\n",
      "epochs=3700 기울기=3.0385 절편=73.6648         기울기 편미분=0.0000 절편 편미분=-0.0000\n",
      "epochs=3800 기울기=3.0385 절편=73.6648         기울기 편미분=0.0000 절편 편미분=-0.0000\n",
      "epochs=3900 기울기=3.0385 절편=73.6648         기울기 편미분=0.0000 절편 편미분=-0.0000\n",
      "epochs=4000 기울기=3.0385 절편=73.6648         기울기 편미분=0.0000 절편 편미분=-0.0000\n",
      "epochs=4100 기울기=3.0385 절편=73.6648         기울기 편미분=0.0000 절편 편미분=-0.0000\n",
      "epochs=4200 기울기=3.0385 절편=73.6648         기울기 편미분=0.0000 절편 편미분=-0.0000\n",
      "epochs=4300 기울기=3.0385 절편=73.6648         기울기 편미분=0.0000 절편 편미분=-0.0000\n",
      "epochs=4400 기울기=3.0385 절편=73.6648         기울기 편미분=0.0000 절편 편미분=-0.0000\n",
      "epochs=4500 기울기=3.0385 절편=73.6648         기울기 편미분=0.0000 절편 편미분=-0.0000\n",
      "epochs=4600 기울기=3.0385 절편=73.6648         기울기 편미분=0.0000 절편 편미분=-0.0000\n",
      "epochs=4700 기울기=3.0385 절편=73.6648         기울기 편미분=0.0000 절편 편미분=-0.0000\n",
      "epochs=4800 기울기=3.0385 절편=73.6648         기울기 편미분=0.0000 절편 편미분=-0.0000\n",
      "epochs=4900 기울기=3.0385 절편=73.6648         기울기 편미분=0.0000 절편 편미분=-0.0000\n"
     ]
    }
   ],
   "source": [
    "# 경사하강법 수행\n",
    "for i in range(epochs):\n",
    "    y_pred = slope * X + intercept  # 현재 회귀선에 대한 예측값 계산\n",
    "    error = y_pred - y  # 예측 오차 계산\n",
    "    \n",
    "    # 기울기와 절편의 편미분 계산\n",
    "    gradient_slope = (2/n) * np.sum(error * X)\n",
    "    gradient_intercept = (2/n) * np.sum(error)\n",
    "    \n",
    "    # 기울기와 절편 업데이트\n",
    "    slope -= learning_rate * gradient_slope\n",
    "    intercept -= learning_rate * gradient_intercept\n",
    "    \n",
    "    if i % 100 == 0: # 100번 반복될 때마다 현재 상태 출력\n",
    "        print(f\"epochs={i} 기울기={slope:.4f} 절편={intercept:.4f} \\\n",
    "        기울기 편미분={gradient_slope:.4f} 절편 편미분={gradient_intercept:.4f}\")"
   ]
  },
  {
   "cell_type": "code",
   "execution_count": 56,
   "id": "1af53716",
   "metadata": {},
   "outputs": [
    {
     "data": {
      "text/plain": [
       "array([ 76.70329669,  79.74175823,  85.81868131,  88.85714285,\n",
       "        91.89560439,  97.97252748, 101.01098902])"
      ]
     },
     "execution_count": 56,
     "metadata": {},
     "output_type": "execute_result"
    }
   ],
   "source": [
    "# 테스트 데이터 예측\n",
    "y_pred = slope * X + intercept\n",
    "y_pred"
   ]
  },
  {
   "cell_type": "code",
   "execution_count": 57,
   "id": "1d31776b",
   "metadata": {},
   "outputs": [
    {
     "data": {
      "image/png": "[encoded data removed]",
      "text/plain": [
       "<Figure size 640x480 with 1 Axes>"
      ]
     },
     "metadata": {},
     "output_type": "display_data"
    }
   ],
   "source": [
    "plt.scatter(X, y, color='blue', label='실제 데이터')\n",
    "plt.plot(X, y_pred, color='red', label='회귀선')\n",
    "plt.xlabel('X')\n",
    "plt.ylabel('y')\n",
    "plt.legend()\n",
    "plt.title('단순선형회귀 예측 결과')\n",
    "plt.show()"
   ]
  },
  {
   "cell_type": "markdown",
   "id": "b1ee6f7c",
   "metadata": {},
   "source": [
    "#### 하이퍼파라미터 변경 하여 성능 높이기\n"
   ]
  },
  {
   "cell_type": "markdown",
   "id": "22fbfb76",
   "metadata": {},
   "source": [
    "### sklearn 라이브러리로 단순 선형회귀 구현하기\n",
    "- linear regression"
   ]
  },
  {
   "cell_type": "code",
   "execution_count": 58,
   "id": "db474a3d",
   "metadata": {},
   "outputs": [],
   "source": [
    "import pandas as pd\n",
    "import numpy as np\n",
    "from sklearn import linear_model\n",
    "import matplotlib.pyplot as plt"
   ]
  },
  {
   "cell_type": "code",
   "execution_count": 67,
   "id": "4fd73488",
   "metadata": {},
   "outputs": [],
   "source": [
    "data = [[1,70], [2, 81],[4, 93], [5, 92], [6, 91], [8, 97], [9, 98]]\n",
    "\n",
    "X = np.array([i[0] for i in data])  \n",
    "y = np.array([i[1] for i in data])  "
   ]
  },
  {
   "cell_type": "code",
   "execution_count": 68,
   "id": "843810c3",
   "metadata": {},
   "outputs": [
    {
     "ename": "ValueError",
     "evalue": "Expected 2D array, got 1D array instead:\narray=[1 2 4 5 6 8 9].\nReshape your data either using array.reshape(-1, 1) if your data has a single feature or array.reshape(1, -1) if it contains a single sample.",
     "output_type": "error",
     "traceback": [
      "\u001b[1;31m---------------------------------------------------------------------------\u001b[0m",
      "\u001b[1;31mValueError\u001b[0m                                Traceback (most recent call last)",
      "Cell \u001b[1;32mIn[68], line 3\u001b[0m\n\u001b[0;32m      1\u001b[0m \u001b[38;5;66;03m# Create linear regression object\u001b[39;00m\n\u001b[0;32m      2\u001b[0m reg \u001b[38;5;241m=\u001b[39m linear_model\u001b[38;5;241m.\u001b[39mLinearRegression()\n\u001b[1;32m----> 3\u001b[0m reg\u001b[38;5;241m.\u001b[39mfit(X,y)\n",
      "File \u001b[1;32m~\\anaconda3\\Lib\\site-packages\\sklearn\\base.py:1151\u001b[0m, in \u001b[0;36m_fit_context.<locals>.decorator.<locals>.wrapper\u001b[1;34m(estimator, *args, **kwargs)\u001b[0m\n\u001b[0;32m   1144\u001b[0m     estimator\u001b[38;5;241m.\u001b[39m_validate_params()\n\u001b[0;32m   1146\u001b[0m \u001b[38;5;28;01mwith\u001b[39;00m config_context(\n\u001b[0;32m   1147\u001b[0m     skip_parameter_validation\u001b[38;5;241m=\u001b[39m(\n\u001b[0;32m   1148\u001b[0m         prefer_skip_nested_validation \u001b[38;5;129;01mor\u001b[39;00m global_skip_validation\n\u001b[0;32m   1149\u001b[0m     )\n\u001b[0;32m   1150\u001b[0m ):\n\u001b[1;32m-> 1151\u001b[0m     \u001b[38;5;28;01mreturn\u001b[39;00m fit_method(estimator, \u001b[38;5;241m*\u001b[39margs, \u001b[38;5;241m*\u001b[39m\u001b[38;5;241m*\u001b[39mkwargs)\n",
      "File \u001b[1;32m~\\anaconda3\\Lib\\site-packages\\sklearn\\linear_model\\_base.py:678\u001b[0m, in \u001b[0;36mLinearRegression.fit\u001b[1;34m(self, X, y, sample_weight)\u001b[0m\n\u001b[0;32m    674\u001b[0m n_jobs_ \u001b[38;5;241m=\u001b[39m \u001b[38;5;28mself\u001b[39m\u001b[38;5;241m.\u001b[39mn_jobs\n\u001b[0;32m    676\u001b[0m accept_sparse \u001b[38;5;241m=\u001b[39m \u001b[38;5;28;01mFalse\u001b[39;00m \u001b[38;5;28;01mif\u001b[39;00m \u001b[38;5;28mself\u001b[39m\u001b[38;5;241m.\u001b[39mpositive \u001b[38;5;28;01melse\u001b[39;00m [\u001b[38;5;124m\"\u001b[39m\u001b[38;5;124mcsr\u001b[39m\u001b[38;5;124m\"\u001b[39m, \u001b[38;5;124m\"\u001b[39m\u001b[38;5;124mcsc\u001b[39m\u001b[38;5;124m\"\u001b[39m, \u001b[38;5;124m\"\u001b[39m\u001b[38;5;124mcoo\u001b[39m\u001b[38;5;124m\"\u001b[39m]\n\u001b[1;32m--> 678\u001b[0m X, y \u001b[38;5;241m=\u001b[39m \u001b[38;5;28mself\u001b[39m\u001b[38;5;241m.\u001b[39m_validate_data(\n\u001b[0;32m    679\u001b[0m     X, y, accept_sparse\u001b[38;5;241m=\u001b[39maccept_sparse, y_numeric\u001b[38;5;241m=\u001b[39m\u001b[38;5;28;01mTrue\u001b[39;00m, multi_output\u001b[38;5;241m=\u001b[39m\u001b[38;5;28;01mTrue\u001b[39;00m\n\u001b[0;32m    680\u001b[0m )\n\u001b[0;32m    682\u001b[0m has_sw \u001b[38;5;241m=\u001b[39m sample_weight \u001b[38;5;129;01mis\u001b[39;00m \u001b[38;5;129;01mnot\u001b[39;00m \u001b[38;5;28;01mNone\u001b[39;00m\n\u001b[0;32m    683\u001b[0m \u001b[38;5;28;01mif\u001b[39;00m has_sw:\n",
      "File \u001b[1;32m~\\anaconda3\\Lib\\site-packages\\sklearn\\base.py:621\u001b[0m, in \u001b[0;36mBaseEstimator._validate_data\u001b[1;34m(self, X, y, reset, validate_separately, cast_to_ndarray, **check_params)\u001b[0m\n\u001b[0;32m    619\u001b[0m         y \u001b[38;5;241m=\u001b[39m check_array(y, input_name\u001b[38;5;241m=\u001b[39m\u001b[38;5;124m\"\u001b[39m\u001b[38;5;124my\u001b[39m\u001b[38;5;124m\"\u001b[39m, \u001b[38;5;241m*\u001b[39m\u001b[38;5;241m*\u001b[39mcheck_y_params)\n\u001b[0;32m    620\u001b[0m     \u001b[38;5;28;01melse\u001b[39;00m:\n\u001b[1;32m--> 621\u001b[0m         X, y \u001b[38;5;241m=\u001b[39m check_X_y(X, y, \u001b[38;5;241m*\u001b[39m\u001b[38;5;241m*\u001b[39mcheck_params)\n\u001b[0;32m    622\u001b[0m     out \u001b[38;5;241m=\u001b[39m X, y\n\u001b[0;32m    624\u001b[0m \u001b[38;5;28;01mif\u001b[39;00m \u001b[38;5;129;01mnot\u001b[39;00m no_val_X \u001b[38;5;129;01mand\u001b[39;00m check_params\u001b[38;5;241m.\u001b[39mget(\u001b[38;5;124m\"\u001b[39m\u001b[38;5;124mensure_2d\u001b[39m\u001b[38;5;124m\"\u001b[39m, \u001b[38;5;28;01mTrue\u001b[39;00m):\n",
      "File \u001b[1;32m~\\anaconda3\\Lib\\site-packages\\sklearn\\utils\\validation.py:1147\u001b[0m, in \u001b[0;36mcheck_X_y\u001b[1;34m(X, y, accept_sparse, accept_large_sparse, dtype, order, copy, force_all_finite, ensure_2d, allow_nd, multi_output, ensure_min_samples, ensure_min_features, y_numeric, estimator)\u001b[0m\n\u001b[0;32m   1142\u001b[0m         estimator_name \u001b[38;5;241m=\u001b[39m _check_estimator_name(estimator)\n\u001b[0;32m   1143\u001b[0m     \u001b[38;5;28;01mraise\u001b[39;00m \u001b[38;5;167;01mValueError\u001b[39;00m(\n\u001b[0;32m   1144\u001b[0m         \u001b[38;5;124mf\u001b[39m\u001b[38;5;124m\"\u001b[39m\u001b[38;5;132;01m{\u001b[39;00mestimator_name\u001b[38;5;132;01m}\u001b[39;00m\u001b[38;5;124m requires y to be passed, but the target y is None\u001b[39m\u001b[38;5;124m\"\u001b[39m\n\u001b[0;32m   1145\u001b[0m     )\n\u001b[1;32m-> 1147\u001b[0m X \u001b[38;5;241m=\u001b[39m check_array(\n\u001b[0;32m   1148\u001b[0m     X,\n\u001b[0;32m   1149\u001b[0m     accept_sparse\u001b[38;5;241m=\u001b[39maccept_sparse,\n\u001b[0;32m   1150\u001b[0m     accept_large_sparse\u001b[38;5;241m=\u001b[39maccept_large_sparse,\n\u001b[0;32m   1151\u001b[0m     dtype\u001b[38;5;241m=\u001b[39mdtype,\n\u001b[0;32m   1152\u001b[0m     order\u001b[38;5;241m=\u001b[39morder,\n\u001b[0;32m   1153\u001b[0m     copy\u001b[38;5;241m=\u001b[39mcopy,\n\u001b[0;32m   1154\u001b[0m     force_all_finite\u001b[38;5;241m=\u001b[39mforce_all_finite,\n\u001b[0;32m   1155\u001b[0m     ensure_2d\u001b[38;5;241m=\u001b[39mensure_2d,\n\u001b[0;32m   1156\u001b[0m     allow_nd\u001b[38;5;241m=\u001b[39mallow_nd,\n\u001b[0;32m   1157\u001b[0m     ensure_min_samples\u001b[38;5;241m=\u001b[39mensure_min_samples,\n\u001b[0;32m   1158\u001b[0m     ensure_min_features\u001b[38;5;241m=\u001b[39mensure_min_features,\n\u001b[0;32m   1159\u001b[0m     estimator\u001b[38;5;241m=\u001b[39mestimator,\n\u001b[0;32m   1160\u001b[0m     input_name\u001b[38;5;241m=\u001b[39m\u001b[38;5;124m\"\u001b[39m\u001b[38;5;124mX\u001b[39m\u001b[38;5;124m\"\u001b[39m,\n\u001b[0;32m   1161\u001b[0m )\n\u001b[0;32m   1163\u001b[0m y \u001b[38;5;241m=\u001b[39m _check_y(y, multi_output\u001b[38;5;241m=\u001b[39mmulti_output, y_numeric\u001b[38;5;241m=\u001b[39my_numeric, estimator\u001b[38;5;241m=\u001b[39mestimator)\n\u001b[0;32m   1165\u001b[0m check_consistent_length(X, y)\n",
      "File \u001b[1;32m~\\anaconda3\\Lib\\site-packages\\sklearn\\utils\\validation.py:940\u001b[0m, in \u001b[0;36mcheck_array\u001b[1;34m(array, accept_sparse, accept_large_sparse, dtype, order, copy, force_all_finite, ensure_2d, allow_nd, ensure_min_samples, ensure_min_features, estimator, input_name)\u001b[0m\n\u001b[0;32m    938\u001b[0m     \u001b[38;5;66;03m# If input is 1D raise error\u001b[39;00m\n\u001b[0;32m    939\u001b[0m     \u001b[38;5;28;01mif\u001b[39;00m array\u001b[38;5;241m.\u001b[39mndim \u001b[38;5;241m==\u001b[39m \u001b[38;5;241m1\u001b[39m:\n\u001b[1;32m--> 940\u001b[0m         \u001b[38;5;28;01mraise\u001b[39;00m \u001b[38;5;167;01mValueError\u001b[39;00m(\n\u001b[0;32m    941\u001b[0m             \u001b[38;5;124m\"\u001b[39m\u001b[38;5;124mExpected 2D array, got 1D array instead:\u001b[39m\u001b[38;5;130;01m\\n\u001b[39;00m\u001b[38;5;124marray=\u001b[39m\u001b[38;5;132;01m{}\u001b[39;00m\u001b[38;5;124m.\u001b[39m\u001b[38;5;130;01m\\n\u001b[39;00m\u001b[38;5;124m\"\u001b[39m\n\u001b[0;32m    942\u001b[0m             \u001b[38;5;124m\"\u001b[39m\u001b[38;5;124mReshape your data either using array.reshape(-1, 1) if \u001b[39m\u001b[38;5;124m\"\u001b[39m\n\u001b[0;32m    943\u001b[0m             \u001b[38;5;124m\"\u001b[39m\u001b[38;5;124myour data has a single feature or array.reshape(1, -1) \u001b[39m\u001b[38;5;124m\"\u001b[39m\n\u001b[0;32m    944\u001b[0m             \u001b[38;5;124m\"\u001b[39m\u001b[38;5;124mif it contains a single sample.\u001b[39m\u001b[38;5;124m\"\u001b[39m\u001b[38;5;241m.\u001b[39mformat(array)\n\u001b[0;32m    945\u001b[0m         )\n\u001b[0;32m    947\u001b[0m \u001b[38;5;28;01mif\u001b[39;00m dtype_numeric \u001b[38;5;129;01mand\u001b[39;00m \u001b[38;5;28mhasattr\u001b[39m(array\u001b[38;5;241m.\u001b[39mdtype, \u001b[38;5;124m\"\u001b[39m\u001b[38;5;124mkind\u001b[39m\u001b[38;5;124m\"\u001b[39m) \u001b[38;5;129;01mand\u001b[39;00m array\u001b[38;5;241m.\u001b[39mdtype\u001b[38;5;241m.\u001b[39mkind \u001b[38;5;129;01min\u001b[39;00m \u001b[38;5;124m\"\u001b[39m\u001b[38;5;124mUSV\u001b[39m\u001b[38;5;124m\"\u001b[39m:\n\u001b[0;32m    948\u001b[0m     \u001b[38;5;28;01mraise\u001b[39;00m \u001b[38;5;167;01mValueError\u001b[39;00m(\n\u001b[0;32m    949\u001b[0m         \u001b[38;5;124m\"\u001b[39m\u001b[38;5;124mdtype=\u001b[39m\u001b[38;5;124m'\u001b[39m\u001b[38;5;124mnumeric\u001b[39m\u001b[38;5;124m'\u001b[39m\u001b[38;5;124m is not compatible with arrays of bytes/strings.\u001b[39m\u001b[38;5;124m\"\u001b[39m\n\u001b[0;32m    950\u001b[0m         \u001b[38;5;124m\"\u001b[39m\u001b[38;5;124mConvert your data to numeric values explicitly instead.\u001b[39m\u001b[38;5;124m\"\u001b[39m\n\u001b[0;32m    951\u001b[0m     )\n",
      "\u001b[1;31mValueError\u001b[0m: Expected 2D array, got 1D array instead:\narray=[1 2 4 5 6 8 9].\nReshape your data either using array.reshape(-1, 1) if your data has a single feature or array.reshape(1, -1) if it contains a single sample."
     ]
    }
   ],
   "source": [
    "# Create linear regression object\n",
    "reg = linear_model.LinearRegression()\n",
    "reg.fit(X,y)"
   ]
  },
  {
   "cell_type": "code",
   "execution_count": 69,
   "id": "8b950298",
   "metadata": {},
   "outputs": [
    {
     "name": "stdout",
     "output_type": "stream",
     "text": [
      "[[1]\n",
      " [2]\n",
      " [4]\n",
      " [5]\n",
      " [6]\n",
      " [8]\n",
      " [9]]\n",
      "[[70]\n",
      " [81]\n",
      " [93]\n",
      " [92]\n",
      " [91]\n",
      " [97]\n",
      " [98]]\n"
     ]
    }
   ],
   "source": [
    "X_data = X.reshape(-1,1)  \n",
    "y_data = y.reshape(-1, 1)\n",
    "print(X_data)\n",
    "print(y_data)"
   ]
  },
  {
   "cell_type": "code",
   "execution_count": 71,
   "id": "5d73699e",
   "metadata": {},
   "outputs": [
    {
     "data": {
      "text/html": [
       "<style>#sk-container-id-1 {color: black;}#sk-container-id-1 pre{padding: 0;}#sk-container-id-1 div.sk-toggleable {background-color: white;}#sk-container-id-1 label.sk-toggleable__label {cursor: pointer;display: block;width: 100%;margin-bottom: 0;padding: 0.3em;box-sizing: border-box;text-align: center;}#sk-container-id-1 label.sk-toggleable__label-arrow:before {content: \"▸\";float: left;margin-right: 0.25em;color: #696969;}#sk-container-id-1 label.sk-toggleable__label-arrow:hover:before {color: black;}#sk-container-id-1 div.sk-estimator:hover label.sk-toggleable__label-arrow:before {color: black;}#sk-container-id-1 div.sk-toggleable__content {max-height: 0;max-width: 0;overflow: hidden;text-align: left;background-color: #f0f8ff;}#sk-container-id-1 div.sk-toggleable__content pre {margin: 0.2em;color: black;border-radius: 0.25em;background-color: #f0f8ff;}#sk-container-id-1 input.sk-toggleable__control:checked~div.sk-toggleable__content {max-height: 200px;max-width: 100%;overflow: auto;}#sk-container-id-1 input.sk-toggleable__control:checked~label.sk-toggleable__label-arrow:before {content: \"▾\";}#sk-container-id-1 div.sk-estimator input.sk-toggleable__control:checked~label.sk-toggleable__label {background-color: #d4ebff;}#sk-container-id-1 div.sk-label input.sk-toggleable__control:checked~label.sk-toggleable__label {background-color: #d4ebff;}#sk-container-id-1 input.sk-hidden--visually {border: 0;clip: rect(1px 1px 1px 1px);clip: rect(1px, 1px, 1px, 1px);height: 1px;margin: -1px;overflow: hidden;padding: 0;position: absolute;width: 1px;}#sk-container-id-1 div.sk-estimator {font-family: monospace;background-color: #f0f8ff;border: 1px dotted black;border-radius: 0.25em;box-sizing: border-box;margin-bottom: 0.5em;}#sk-container-id-1 div.sk-estimator:hover {background-color: #d4ebff;}#sk-container-id-1 div.sk-parallel-item::after {content: \"\";width: 100%;border-bottom: 1px solid gray;flex-grow: 1;}#sk-container-id-1 div.sk-label:hover label.sk-toggleable__label {background-color: #d4ebff;}#sk-container-id-1 div.sk-serial::before {content: \"\";position: absolute;border-left: 1px solid gray;box-sizing: border-box;top: 0;bottom: 0;left: 50%;z-index: 0;}#sk-container-id-1 div.sk-serial {display: flex;flex-direction: column;align-items: center;background-color: white;padding-right: 0.2em;padding-left: 0.2em;position: relative;}#sk-container-id-1 div.sk-item {position: relative;z-index: 1;}#sk-container-id-1 div.sk-parallel {display: flex;align-items: stretch;justify-content: center;background-color: white;position: relative;}#sk-container-id-1 div.sk-item::before, #sk-container-id-1 div.sk-parallel-item::before {content: \"\";position: absolute;border-left: 1px solid gray;box-sizing: border-box;top: 0;bottom: 0;left: 50%;z-index: -1;}#sk-container-id-1 div.sk-parallel-item {display: flex;flex-direction: column;z-index: 1;position: relative;background-color: white;}#sk-container-id-1 div.sk-parallel-item:first-child::after {align-self: flex-end;width: 50%;}#sk-container-id-1 div.sk-parallel-item:last-child::after {align-self: flex-start;width: 50%;}#sk-container-id-1 div.sk-parallel-item:only-child::after {width: 0;}#sk-container-id-1 div.sk-dashed-wrapped {border: 1px dashed gray;margin: 0 0.4em 0.5em 0.4em;box-sizing: border-box;padding-bottom: 0.4em;background-color: white;}#sk-container-id-1 div.sk-label label {font-family: monospace;font-weight: bold;display: inline-block;line-height: 1.2em;}#sk-container-id-1 div.sk-label-container {text-align: center;}#sk-container-id-1 div.sk-container {/* jupyter's `normalize.less` sets `[hidden] { display: none; }` but bootstrap.min.css set `[hidden] { display: none !important; }` so we also need the `!important` here to be able to override the default hidden behavior on the sphinx rendered scikit-learn.org. See: https://github.com/scikit-learn/scikit-learn/issues/21755 */display: inline-block !important;position: relative;}#sk-container-id-1 div.sk-text-repr-fallback {display: none;}</style><div id=\"sk-container-id-1\" class=\"sk-top-container\"><div class=\"sk-text-repr-fallback\"><pre>LinearRegression()</pre><b>In a Jupyter environment, please rerun this cell to show the HTML representation or trust the notebook. <br />On GitHub, the HTML representation is unable to render, please try loading this page with nbviewer.org.</b></div><div class=\"sk-container\" hidden><div class=\"sk-item\"><div class=\"sk-estimator sk-toggleable\"><input class=\"sk-toggleable__control sk-hidden--visually\" id=\"sk-estimator-id-1\" type=\"checkbox\" checked><label for=\"sk-estimator-id-1\" class=\"sk-toggleable__label sk-toggleable__label-arrow\">LinearRegression</label><div class=\"sk-toggleable__content\"><pre>LinearRegression()</pre></div></div></div></div></div>"
      ],
      "text/plain": [
       "LinearRegression()"
      ]
     },
     "execution_count": 71,
     "metadata": {},
     "output_type": "execute_result"
    }
   ],
   "source": [
    "# Create linear regression object\n",
    "reg = linear_model.LinearRegression()\n",
    "reg.fit(X_data,y_data)"
   ]
  },
  {
   "cell_type": "code",
   "execution_count": 72,
   "id": "a7882698",
   "metadata": {},
   "outputs": [
    {
     "data": {
      "text/plain": [
       "array([[82.78021978]])"
      ]
     },
     "execution_count": 72,
     "metadata": {},
     "output_type": "execute_result"
    }
   ],
   "source": [
    "# 3시간 공부했을 때 점수는?\n",
    "reg.predict([[3]])"
   ]
  },
  {
   "cell_type": "code",
   "execution_count": 73,
   "id": "9dce15be",
   "metadata": {},
   "outputs": [
    {
     "data": {
      "text/plain": [
       "array([[3.03846154]])"
      ]
     },
     "execution_count": 73,
     "metadata": {},
     "output_type": "execute_result"
    }
   ],
   "source": [
    "reg.coef_"
   ]
  },
  {
   "cell_type": "code",
   "execution_count": 74,
   "id": "a2825bd3",
   "metadata": {},
   "outputs": [
    {
     "data": {
      "text/plain": [
       "array([73.66483516])"
      ]
     },
     "execution_count": 74,
     "metadata": {},
     "output_type": "execute_result"
    }
   ],
   "source": [
    "reg.intercept_"
   ]
  },
  {
   "cell_type": "code",
   "execution_count": 78,
   "id": "672dd1cb",
   "metadata": {},
   "outputs": [],
   "source": [
    "y_pred = reg.coef_ * X_data + reg.intercept_"
   ]
  },
  {
   "cell_type": "code",
   "execution_count": 79,
   "id": "ee7c6c5a",
   "metadata": {},
   "outputs": [
    {
     "data": {
      "image/png": "[encoded data removed]",
      "text/plain": [
       "<Figure size 640x480 with 1 Axes>"
      ]
     },
     "metadata": {},
     "output_type": "display_data"
    }
   ],
   "source": [
    "# 시각화\n",
    "plt.scatter(X_data, y_data, color='blue', label='실제 데이터')\n",
    "plt.plot(X_data, y_pred, color='red', label='회귀선')\n",
    "plt.xlabel('X')\n",
    "plt.ylabel('y')\n",
    "plt.legend()\n",
    "plt.title('단순선형회귀 예측 결과')\n",
    "plt.show()"
   ]
  }
 ],
 "metadata": {
  "kernelspec": {
   "display_name": "Python 3 (ipykernel)",
   "language": "python",
   "name": "python3"
  },
  "language_info": {
   "codemirror_mode": {
    "name": "ipython",
    "version": 3
   },
   "file_extension": ".py",
   "mimetype": "text/x-python",
   "name": "python",
   "nbconvert_exporter": "python",
   "pygments_lexer": "ipython3",
   "version": "3.11.4"
  }
 },
 "nbformat": 4,
 "nbformat_minor": 5
}
